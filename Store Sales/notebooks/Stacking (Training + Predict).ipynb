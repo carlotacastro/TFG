{
 "cells": [
  {
   "cell_type": "code",
   "execution_count": 1,
   "id": "35847212",
   "metadata": {
    "execution": {
     "iopub.execute_input": "2022-06-11T06:46:42.866129Z",
     "iopub.status.busy": "2022-06-11T06:46:42.865590Z",
     "iopub.status.idle": "2022-06-11T06:46:44.470725Z",
     "shell.execute_reply": "2022-06-11T06:46:44.469969Z"
    },
    "id": "35847212",
    "papermill": {
     "duration": 1.629765,
     "end_time": "2022-06-11T06:46:44.473175",
     "exception": false,
     "start_time": "2022-06-11T06:46:42.843410",
     "status": "completed"
    },
    "tags": []
   },
   "outputs": [],
   "source": [
    "import numpy as np\n",
    "import pandas as pd\n",
    "import matplotlib.pyplot as plt\n",
    "import seaborn as sns\n",
    "import warnings\n",
    "\n",
    "from statsmodels.tsa.deterministic import DeterministicProcess, CalendarFourier\n",
    "\n",
    "from sklearn.model_selection import train_test_split, cross_val_score, TimeSeriesSplit, GridSearchCV, RandomizedSearchCV, cross_validate\n",
    "from sklearn.metrics import mean_squared_error, make_scorer, mean_squared_log_error, mean_absolute_error, mean_absolute_percentage_error\n",
    "from sklearn.ensemble import RandomForestRegressor\n",
    "#from category_encoders import TargetEncoder\n",
    "from sklearn.feature_selection import SelectFromModel"
   ]
  },
  {
   "cell_type": "code",
   "execution_count": 2,
   "id": "4f0f8acd",
   "metadata": {},
   "outputs": [],
   "source": [
    "date = {}\n",
    "date['date_start_train'] = '2017-04-30'\n",
    "date['date_end_train'] = '2017-08-15'\n",
    "date['date_end_test'] = '2017-08-31'\n",
    "#test starts on '2017-08-16'\n",
    "\n",
    "diff_test = (pd.Timestamp(date['date_end_test']) - pd.Timestamp(date['date_start_train'])).days\n",
    "diff_train = (pd.Timestamp(date['date_end_train']) - pd.Timestamp(date['date_start_train'])).days"
   ]
  },
  {
   "cell_type": "code",
   "execution_count": 3,
   "id": "1d5b7139",
   "metadata": {
    "execution": {
     "iopub.execute_input": "2022-06-11T06:48:35.049915Z",
     "iopub.status.busy": "2022-06-11T06:48:35.049317Z",
     "iopub.status.idle": "2022-06-11T06:48:35.655042Z",
     "shell.execute_reply": "2022-06-11T06:48:35.654017Z"
    },
    "id": "1d5b7139",
    "papermill": {
     "duration": 0.686908,
     "end_time": "2022-06-11T06:48:35.657551",
     "exception": false,
     "start_time": "2022-06-11T06:48:34.970643",
     "status": "completed"
    },
    "tags": []
   },
   "outputs": [],
   "source": [
    "final_df = pd.read_csv('df_RF.csv', parse_dates=['date']).set_index('date')"
   ]
  },
  {
   "cell_type": "markdown",
   "id": "3789c156",
   "metadata": {
    "id": "3789c156",
    "papermill": {
     "duration": 0.081573,
     "end_time": "2022-06-11T06:48:41.099554",
     "exception": false,
     "start_time": "2022-06-11T06:48:41.017981",
     "status": "completed"
    },
    "tags": []
   },
   "source": [
    "# Stacking"
   ]
  },
  {
   "cell_type": "code",
   "execution_count": 4,
   "id": "99e8f95d",
   "metadata": {
    "execution": {
     "iopub.execute_input": "2022-06-11T06:48:41.264533Z",
     "iopub.status.busy": "2022-06-11T06:48:41.263843Z",
     "iopub.status.idle": "2022-06-11T06:48:41.270489Z",
     "shell.execute_reply": "2022-06-11T06:48:41.269716Z"
    },
    "id": "99e8f95d",
    "papermill": {
     "duration": 0.091102,
     "end_time": "2022-06-11T06:48:41.272577",
     "exception": false,
     "start_time": "2022-06-11T06:48:41.181475",
     "status": "completed"
    },
    "tags": []
   },
   "outputs": [],
   "source": [
    "def split_func (data, X, y, end_date, test_size):\n",
    "    \n",
    "    # Splitting train and test\n",
    "    idx_train, idx_test = train_test_split(data.index, test_size=test_size, shuffle=False)\n",
    "    X_train, X_test = X.loc[idx_train, :], X.loc[idx_test, :]\n",
    "    y_train, y_test = y.loc[idx_train], y.loc[idx_test]\n",
    "    \n",
    "    return X_train, y_train, X_test, y_test\n",
    "\n",
    "def create_sample_weights(X, target_date, weight=0.9):\n",
    "    extra_weight_days = X.index.get_level_values('date') > target_date\n",
    "    return np.array(list(map(lambda x: np.exp(-weight) if x == 0 else 1, extra_weight_days.astype('int'))))"
   ]
  },
  {
   "cell_type": "code",
   "execution_count": 5,
   "id": "bfea8e53",
   "metadata": {
    "execution": {
     "iopub.execute_input": "2022-06-11T06:48:41.634954Z",
     "iopub.status.busy": "2022-06-11T06:48:41.634361Z",
     "iopub.status.idle": "2022-06-11T06:48:41.680950Z",
     "shell.execute_reply": "2022-06-11T06:48:41.679935Z"
    },
    "id": "bfea8e53",
    "papermill": {
     "duration": 0.138706,
     "end_time": "2022-06-11T06:48:41.683642",
     "exception": false,
     "start_time": "2022-06-11T06:48:41.544936",
     "status": "completed"
    },
    "tags": []
   },
   "outputs": [],
   "source": [
    "def train_test (data, end_df, n):\n",
    "    \n",
    "    df = data.loc[:end_df,:].reset_index().set_index(['store_nbr', 'family', 'date']).sort_index()\n",
    "    y = np.log1p(df.loc[:,'sales'].unstack(['store_nbr', 'family']))\n",
    "    \n",
    "    # Selecting features\n",
    "    #We select the best feature (done in feature selection)\n",
    "    \n",
    "    X = df[['sin(2,freq=A-DEC)','sin(2,freq=W-SUN)','lagoil_2_dcoilwtico','lagoil_6_dcoilwtico',\n",
    "            'lagoil_7_dcoilwtico','isweekend','oil_2_month_avg','trend','lagoil_10_dcoilwtico',\n",
    "            'sin(1,freq=A-DEC)','lagoil_1_dcoilwtico','sin(4,freq=W-SUN)','cos(1,freq=W-SUN)',\n",
    "            'dcoilwtico','sin(4,freq=A-DEC)','oil_1_month_avg','lagoil_14_dcoilwtico',\n",
    "            'sin(5,freq=A-DEC)','sin(1,freq=M)','cos(2,freq=M)','day','cos(1,freq=M)','sin(2,freq=M)',\n",
    "            'sin(1,freq=W-SUN)','onpromotion_std_store', 'onpromotion_avg_store', 'onpromotion_biweek_avg',\n",
    "            'onpromotion_lag_3'\n",
    "            ]] \n",
    "    \n",
    "    X = X.groupby(by='date').first()\n",
    "        \n",
    "    # Train\n",
    "    if end_df <= date['date_end_train']:\n",
    "        y_tr = np.empty((92,0))\n",
    "        y_te = np.empty((n,0))\n",
    "        pred_train = np.empty((92,0))\n",
    "        pred_test = np.empty((n,0))\n",
    "    # Test\n",
    "    else:\n",
    "        y_tr = np.empty((108,0))\n",
    "        y_te = np.empty((n,0))\n",
    "        pred_train = np.empty((108,0))\n",
    "        pred_test = np.empty((n,0))\n",
    "\n",
    "    # A model for each shop\n",
    "    for i in data.store_nbr.unique():\n",
    "        y = df.loc[i,'sales'].unstack(['family'])\n",
    "        X = df.loc[i, X.columns]\n",
    "        X = X.groupby(by='date').first()\n",
    "\n",
    "        # Splitting train and test and log transformation\n",
    "        X_train, y_train, X_test, y_test = split_func(y, X, np.log1p(y), end_df, n)\n",
    "                \n",
    "        # Exponentially weighted cost function\n",
    "        weights = create_sample_weights(X_train, '2017-07-01')\n",
    "        \n",
    "        XGB = xg.XGBRegressor(n_estimators=500, learning_rate = 0.01, max_depth= 3, subsample = 0.5, colsample_bytree = 0.6, colsample_bylevel = 1, random_state=0)\n",
    "        RF = RandomForestRegressor(n_estimators=1200, max_depth = 50, max_features = 'auto', bootstrap = True, min_samples_leaf=2, min_samples_split=2, random_state=0)\n",
    "        LR = LinearRegression()\n",
    "        \n",
    "        XGB.fit(X_train, y_train)\n",
    "        RF.fit(X_train, y_train)\n",
    "        LR.fit(X_train, y_train)\n",
    "        \n",
    "        preds1 = XGB.predict(X_train)\n",
    "        preds2 = RF.predict(X_train)\n",
    "        preds3 = LR.predict(X_train)\n",
    "\n",
    "        test_preds1 = XGB.predict(X_test)\n",
    "        test_preds2 = RF.predict(X_test)\n",
    "        test_preds3 = LR.predict(X_test)\n",
    "        \n",
    "        train_stack = np.column_stack((preds1,preds2, preds3))\n",
    "        test_stack = np.column_stack((test_preds1,test_preds2, test_preds3))\n",
    "        \n",
    "        model =  RandomForestRegressor(n_estimators=1200, max_depth = 50, max_features = 'auto', bootstrap = True, min_samples_leaf=2, min_samples_split=2, random_state=0)\n",
    "        model.fit(train_stack, y_train, sample_weight = weights)\n",
    "        final_predictions = model.predict(test_stack) \n",
    "        \n",
    "        y_tr = np.append(y_tr, y_train, axis=1)\n",
    "        y_te = np.append(y_te, y_test, axis=1)\n",
    "        pred_test = np.append(pred_test, final_predictions, axis=1)\n",
    "\n",
    "    index = pd.MultiIndex.from_product([data.store_nbr.unique(), data.family.sort_values().unique()], names=['store_nbr', 'family'])\n",
    "    \n",
    "    y_tr = pd.DataFrame(y_tr, columns=index, index=X_train.index)\n",
    "    y_te = pd.DataFrame(y_te, columns=index, index=X_test.index)\n",
    "    pred_test = pd.DataFrame(pred_test, columns=y_te.columns, index=y_te.index)\n",
    "\n",
    "    y_tr = y_tr.stack(['store_nbr', 'family'])\n",
    "    y_te = y_te.stack(['store_nbr', 'family'])\n",
    "    \n",
    "    pred_test = pred_test.stack(['store_nbr', 'family'])\n",
    "\n",
    "    return pred_test, y_te"
   ]
  },
  {
   "cell_type": "code",
   "execution_count": 1,
   "id": "8949579a",
   "metadata": {},
   "outputs": [],
   "source": [
    "pred_test, y_te = train_test(final_df, date['date_end_train'], 16)"
   ]
  },
  {
   "cell_type": "code",
   "execution_count": 8,
   "id": "wP9oGgpp2zJU",
   "metadata": {
    "id": "wP9oGgpp2zJU"
   },
   "outputs": [],
   "source": [
    "y_pred = pred_test.reset_index()\n",
    "y = y_te.reset_index()"
   ]
  },
  {
   "cell_type": "code",
   "execution_count": 1,
   "id": "bf0376a3",
   "metadata": {},
   "outputs": [],
   "source": [
    "y['sales_pred'] =  y_pred[0].clip(0.)\n",
    "y = y.rename(columns={0: 'sales'})\n",
    "y = y.set_index('date')\n",
    "y"
   ]
  },
  {
   "cell_type": "code",
   "execution_count": 11,
   "id": "Rooj0qCmBjiZ",
   "metadata": {
    "id": "Rooj0qCmBjiZ"
   },
   "outputs": [],
   "source": [
    "# y.to_csv('Stacking.csv', index=True)"
   ]
  },
  {
   "cell_type": "code",
   "execution_count": 99,
   "id": "2f712d19",
   "metadata": {},
   "outputs": [
    {
     "name": "stderr",
     "output_type": "stream",
     "text": [
      "C:\\Users\\carlo\\Anaconda3\\lib\\site-packages\\ipykernel_launcher.py:11: FutureWarning: weekofyear and week have been deprecated, please use DatetimeIndex.isocalendar().week instead, which returns a Series.  To exactly reproduce the behavior of week and weekofyear and return an Index, you may call pd.Int64Index(idx.isocalendar().week)\n",
      "  # This is added back by InteractiveShellApp.init_path()\n"
     ]
    }
   ],
   "source": [
    "pred_test, y_te = train_test(final_df, date['date_end_test'], 16)"
   ]
  },
  {
   "cell_type": "code",
   "execution_count": null,
   "id": "70c15f6f",
   "metadata": {},
   "outputs": [],
   "source": [
    "y = pd.Series(np.exp(pred_test.values) - 1, index=pred_test.index)\n",
    "tg = final_df2.reset_index().set_index(['date', 'store_nbr', 'family']).sort_index().loc['2017-08-16':, 'id']"
   ]
  },
  {
   "cell_type": "code",
   "execution_count": null,
   "id": "f7de7186",
   "metadata": {},
   "outputs": [],
   "source": [
    "sub = pd.concat([tg, y], axis=1)\n",
    "sub = sub.rename(columns = {0:'sales'})\n",
    "sub['sales'] = sub['sales'].apply(lambda x: 0 if x<0.01 else x) \n",
    "sub"
   ]
  },
  {
   "cell_type": "code",
   "execution_count": null,
   "id": "85bf0cad",
   "metadata": {},
   "outputs": [],
   "source": [
    "# sub.to_csv('submission.csv', index=False)"
   ]
  }
 ],
 "metadata": {
  "colab": {
   "collapsed_sections": [
    "f92fb7e2",
    "771b1aef"
   ],
   "provenance": []
  },
  "kernelspec": {
   "display_name": "Python 3 (ipykernel)",
   "language": "python",
   "name": "python3"
  },
  "language_info": {
   "codemirror_mode": {
    "name": "ipython",
    "version": 3
   },
   "file_extension": ".py",
   "mimetype": "text/x-python",
   "name": "python",
   "nbconvert_exporter": "python",
   "pygments_lexer": "ipython3",
   "version": "3.7.6"
  },
  "papermill": {
   "default_parameters": {},
   "duration": 341.131269,
   "end_time": "2022-06-11T06:52:14.004214",
   "environment_variables": {},
   "exception": null,
   "input_path": "__notebook__.ipynb",
   "output_path": "__notebook__.ipynb",
   "parameters": {},
   "start_time": "2022-06-11T06:46:32.872945",
   "version": "2.3.4"
  }
 },
 "nbformat": 4,
 "nbformat_minor": 5
}
