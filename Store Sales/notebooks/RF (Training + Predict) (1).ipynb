{
 "cells": [
  {
   "cell_type": "code",
   "execution_count": 1,
   "id": "35847212",
   "metadata": {
    "execution": {
     "iopub.execute_input": "2022-06-11T06:46:42.866129Z",
     "iopub.status.busy": "2022-06-11T06:46:42.865590Z",
     "iopub.status.idle": "2022-06-11T06:46:44.470725Z",
     "shell.execute_reply": "2022-06-11T06:46:44.469969Z"
    },
    "id": "35847212",
    "papermill": {
     "duration": 1.629765,
     "end_time": "2022-06-11T06:46:44.473175",
     "exception": false,
     "start_time": "2022-06-11T06:46:42.843410",
     "status": "completed"
    },
    "tags": []
   },
   "outputs": [],
   "source": [
    "import numpy as np\n",
    "import pandas as pd\n",
    "import matplotlib.pyplot as plt\n",
    "import seaborn as sns\n",
    "import warnings\n",
    "\n",
    "from statsmodels.tsa.deterministic import DeterministicProcess, CalendarFourier\n",
    "\n",
    "from sklearn.model_selection import train_test_split, cross_val_score, TimeSeriesSplit, GridSearchCV, RandomizedSearchCV, cross_validate\n",
    "from sklearn.metrics import mean_squared_error, make_scorer, mean_squared_log_error, mean_absolute_error, mean_absolute_percentage_error\n",
    "from sklearn.ensemble import RandomForestRegressor\n",
    "#from category_encoders import TargetEncoder\n",
    "from sklearn.feature_selection import SelectFromModel"
   ]
  },
  {
   "cell_type": "code",
   "execution_count": 2,
   "id": "4f0f8acd",
   "metadata": {},
   "outputs": [],
   "source": [
    "date = {}\n",
    "date['date_start_train'] = '2017-04-30'\n",
    "date['date_end_train'] = '2017-08-15'\n",
    "date['date_end_test'] = '2017-08-31'\n",
    "#test starts on '2017-08-16'\n",
    "\n",
    "diff_test = (pd.Timestamp(date['date_end_test']) - pd.Timestamp(date['date_start_train'])).days\n",
    "diff_train = (pd.Timestamp(date['date_end_train']) - pd.Timestamp(date['date_start_train'])).days"
   ]
  },
  {
   "cell_type": "code",
   "execution_count": 3,
   "id": "1d5b7139",
   "metadata": {
    "execution": {
     "iopub.execute_input": "2022-06-11T06:48:35.049915Z",
     "iopub.status.busy": "2022-06-11T06:48:35.049317Z",
     "iopub.status.idle": "2022-06-11T06:48:35.655042Z",
     "shell.execute_reply": "2022-06-11T06:48:35.654017Z"
    },
    "id": "1d5b7139",
    "papermill": {
     "duration": 0.686908,
     "end_time": "2022-06-11T06:48:35.657551",
     "exception": false,
     "start_time": "2022-06-11T06:48:34.970643",
     "status": "completed"
    },
    "tags": []
   },
   "outputs": [],
   "source": [
    "final_df = pd.read_csv('df_RF.csv', parse_dates=['date']).set_index('date')"
   ]
  },
  {
   "cell_type": "markdown",
   "id": "3789c156",
   "metadata": {
    "id": "3789c156",
    "papermill": {
     "duration": 0.081573,
     "end_time": "2022-06-11T06:48:41.099554",
     "exception": false,
     "start_time": "2022-06-11T06:48:41.017981",
     "status": "completed"
    },
    "tags": []
   },
   "source": [
    "# RF"
   ]
  },
  {
   "cell_type": "code",
   "execution_count": 4,
   "id": "99e8f95d",
   "metadata": {
    "execution": {
     "iopub.execute_input": "2022-06-11T06:48:41.264533Z",
     "iopub.status.busy": "2022-06-11T06:48:41.263843Z",
     "iopub.status.idle": "2022-06-11T06:48:41.270489Z",
     "shell.execute_reply": "2022-06-11T06:48:41.269716Z"
    },
    "id": "99e8f95d",
    "papermill": {
     "duration": 0.091102,
     "end_time": "2022-06-11T06:48:41.272577",
     "exception": false,
     "start_time": "2022-06-11T06:48:41.181475",
     "status": "completed"
    },
    "tags": []
   },
   "outputs": [],
   "source": [
    "def split_func (data, X, y, end_date, test_size):\n",
    "    \n",
    "    # Splitting train and test\n",
    "    idx_train, idx_test = train_test_split(data.index, test_size=test_size, shuffle=False)\n",
    "    X_train, X_test = X.loc[idx_train, :], X.loc[idx_test, :]\n",
    "    y_train, y_test = y.loc[idx_train], y.loc[idx_test]\n",
    "    \n",
    "    return X_train, y_train, X_test, y_test\n",
    "\n",
    "def create_sample_weights(X, target_date, weight=0.9):\n",
    "    extra_weight_days = X.index.get_level_values('date') > target_date\n",
    "    return np.array(list(map(lambda x: np.exp(-weight) if x == 0 else 1, extra_weight_days.astype('int'))))"
   ]
  },
  {
   "cell_type": "code",
   "execution_count": 5,
   "id": "bfea8e53",
   "metadata": {
    "execution": {
     "iopub.execute_input": "2022-06-11T06:48:41.634954Z",
     "iopub.status.busy": "2022-06-11T06:48:41.634361Z",
     "iopub.status.idle": "2022-06-11T06:48:41.680950Z",
     "shell.execute_reply": "2022-06-11T06:48:41.679935Z"
    },
    "id": "bfea8e53",
    "papermill": {
     "duration": 0.138706,
     "end_time": "2022-06-11T06:48:41.683642",
     "exception": false,
     "start_time": "2022-06-11T06:48:41.544936",
     "status": "completed"
    },
    "tags": []
   },
   "outputs": [],
   "source": [
    "def train_test (data, end_df, n):\n",
    "    \n",
    "    df = data.loc[:end_df,:].reset_index().set_index(['store_nbr', 'family', 'date']).sort_index()\n",
    "    y = np.log1p(df.loc[:,'sales'].unstack(['store_nbr', 'family']))\n",
    "    \n",
    "    # Selecting features\n",
    "    #We select the best feature (done in feature selection)\n",
    "    \n",
    "    X = df[['sin(2,freq=A-DEC)','sin(2,freq=W-SUN)','lagoil_2_dcoilwtico','lagoil_6_dcoilwtico',\n",
    "            'lagoil_7_dcoilwtico','isweekend','oil_2_month_avg','trend','lagoil_10_dcoilwtico',\n",
    "            'sin(1,freq=A-DEC)','lagoil_1_dcoilwtico','sin(4,freq=W-SUN)','cos(1,freq=W-SUN)',\n",
    "            'dcoilwtico','sin(4,freq=A-DEC)','oil_1_month_avg','lagoil_14_dcoilwtico',\n",
    "            'sin(5,freq=A-DEC)','sin(1,freq=M)','cos(2,freq=M)','day','cos(1,freq=M)','sin(2,freq=M)',\n",
    "            'sin(1,freq=W-SUN)','onpromotion_std_store', 'onpromotion_avg_store', 'onpromotion_biweek_avg',\n",
    "            'onpromotion_lag_3'\n",
    "            ]] \n",
    "    \n",
    "    X = X.groupby(by='date').first()\n",
    "        \n",
    "    # Train\n",
    "    if end_df <= date['date_end_train']:\n",
    "        y_tr = np.empty((92,0))\n",
    "        y_te = np.empty((n,0))\n",
    "        pred_train = np.empty((92,0))\n",
    "        pred_test = np.empty((n,0))\n",
    "    # Test\n",
    "    else:\n",
    "        y_tr = np.empty((108,0))\n",
    "        y_te = np.empty((n,0))\n",
    "        pred_train = np.empty((108,0))\n",
    "        pred_test = np.empty((n,0))\n",
    "\n",
    "    # A model for each shop\n",
    "    for i in data.store_nbr.unique():\n",
    "        y = df.loc[i,'sales'].unstack(['family'])\n",
    "        X = df.loc[i, X.columns]\n",
    "        X = X.groupby(by='date').first()\n",
    "\n",
    "        # Splitting train and test and log transformation\n",
    "        X_train, y_train, X_test, y_test = split_func(y, X, np.log1p(y), end_df, n)\n",
    "                \n",
    "        # Exponentially weighted cost function\n",
    "        weights = create_sample_weights(X_train, '2017-07-01')\n",
    "        \n",
    "        # RandomForestRegressor\n",
    "        model = RandomForestRegressor(n_estimators=1200, max_depth = 50, max_features = 'auto', bootstrap = True, min_samples_leaf=2, min_samples_split=2, random_state=0) #bootstrap=False, max_depth=90, max_features='sqrt',min_samples_leaf=4, min_samples_split=10,n_estimators=600\n",
    "        model.fit(X_train, y_train, sample_weight = weights) \n",
    "        rf_pred_train = model.predict(X_train) \n",
    "        rf_pred_test = model.predict(X_test)\n",
    "        \n",
    "        y_tr = np.append(y_tr, y_train, axis=1)\n",
    "        y_te = np.append(y_te, y_test, axis=1)\n",
    "        pred_train = np.append(pred_train, rf_pred_train, axis=1)\n",
    "        pred_test = np.append(pred_test, rf_pred_test, axis=1)\n",
    "        \n",
    "        # Performances of each shop\n",
    "        # Train\n",
    "        if end_df <= date['date_end_train']:\n",
    "            print(f'RMSLE_train {i}: ', np.round(np.sqrt(mean_squared_error(y_train.clip(0.0), rf_pred_train.clip(0.0))), 4), f'RMSLE_test {i}: ', np.round(np.sqrt(mean_squared_error(y_test.clip(0.0), trf_pred_test.clip(0.0))), 4))        \n",
    "\n",
    "    index = pd.MultiIndex.from_product([data.store_nbr.unique(), data.family.sort_values().unique()], names=['store_nbr', 'family'])\n",
    "    \n",
    "    y_tr = pd.DataFrame(y_tr, columns=index, index=X_train.index)\n",
    "    y_te = pd.DataFrame(y_te, columns=index, index=X_test.index)\n",
    "    pred_train = pd.DataFrame(pred_train, columns=y_tr.columns, index=y_tr.index)\n",
    "    pred_test = pd.DataFrame(pred_test, columns=y_te.columns, index=y_te.index)\n",
    "    \n",
    "    # Total performances\n",
    "    # Train\n",
    "    if end_df <= date['date_end_train']:\n",
    "        print(f'RMSLE_train tot: ', np.round(np.sqrt(mean_squared_error(y_tr.clip(0.0), pred_train.clip(0.0))), 4), f'RMSLE_test tot: ', np.round(np.sqrt(mean_squared_error(y_te.clip(0.0), pred_test.clip(0.0))), 4))\n",
    "\n",
    "   \n",
    "    y_tr = y_tr.stack(['store_nbr', 'family'])\n",
    "    y_te = y_te.stack(['store_nbr', 'family'])\n",
    "    pred_train = pred_train.stack(['store_nbr', 'family'])\n",
    "    pred_test = pred_test.stack(['store_nbr', 'family'])\n",
    " \n",
    "    return pred_test, y_te"
   ]
  },
  {
   "cell_type": "code",
   "execution_count": 1,
   "id": "8949579a",
   "metadata": {},
   "outputs": [],
   "source": [
    "pred_test, y_te = train_test(final_df, date['date_end_train'], 16)"
   ]
  },
  {
   "cell_type": "code",
   "execution_count": 8,
   "id": "wP9oGgpp2zJU",
   "metadata": {
    "id": "wP9oGgpp2zJU"
   },
   "outputs": [],
   "source": [
    "y_pred = pred_test.reset_index()\n",
    "y = y_te.reset_index()"
   ]
  },
  {
   "cell_type": "code",
   "execution_count": 10,
   "id": "bf0376a3",
   "metadata": {},
   "outputs": [
    {
     "data": {
      "text/html": [
       "<div>\n",
       "<style scoped>\n",
       "    .dataframe tbody tr th:only-of-type {\n",
       "        vertical-align: middle;\n",
       "    }\n",
       "\n",
       "    .dataframe tbody tr th {\n",
       "        vertical-align: top;\n",
       "    }\n",
       "\n",
       "    .dataframe thead th {\n",
       "        text-align: right;\n",
       "    }\n",
       "</style>\n",
       "<table border=\"1\" class=\"dataframe\">\n",
       "  <thead>\n",
       "    <tr style=\"text-align: right;\">\n",
       "      <th></th>\n",
       "      <th>store_nbr</th>\n",
       "      <th>family</th>\n",
       "      <th>sales</th>\n",
       "      <th>sales_pred</th>\n",
       "    </tr>\n",
       "    <tr>\n",
       "      <th>date</th>\n",
       "      <th></th>\n",
       "      <th></th>\n",
       "      <th></th>\n",
       "      <th></th>\n",
       "    </tr>\n",
       "  </thead>\n",
       "  <tbody>\n",
       "    <tr>\n",
       "      <th>2017-07-31</th>\n",
       "      <td>1</td>\n",
       "      <td>AUTOMOTIVE</td>\n",
       "      <td>2.197225</td>\n",
       "      <td>1.506556</td>\n",
       "    </tr>\n",
       "    <tr>\n",
       "      <th>2017-07-31</th>\n",
       "      <td>1</td>\n",
       "      <td>BABY CARE</td>\n",
       "      <td>0.000000</td>\n",
       "      <td>0.000000</td>\n",
       "    </tr>\n",
       "    <tr>\n",
       "      <th>2017-07-31</th>\n",
       "      <td>1</td>\n",
       "      <td>BEAUTY</td>\n",
       "      <td>1.386294</td>\n",
       "      <td>1.367747</td>\n",
       "    </tr>\n",
       "    <tr>\n",
       "      <th>2017-07-31</th>\n",
       "      <td>1</td>\n",
       "      <td>BEVERAGES</td>\n",
       "      <td>7.789455</td>\n",
       "      <td>7.705845</td>\n",
       "    </tr>\n",
       "    <tr>\n",
       "      <th>2017-07-31</th>\n",
       "      <td>1</td>\n",
       "      <td>BOOKS</td>\n",
       "      <td>0.693147</td>\n",
       "      <td>0.166759</td>\n",
       "    </tr>\n",
       "    <tr>\n",
       "      <th>...</th>\n",
       "      <td>...</td>\n",
       "      <td>...</td>\n",
       "      <td>...</td>\n",
       "      <td>...</td>\n",
       "    </tr>\n",
       "    <tr>\n",
       "      <th>2017-08-15</th>\n",
       "      <td>54</td>\n",
       "      <td>POULTRY</td>\n",
       "      <td>4.104608</td>\n",
       "      <td>4.228193</td>\n",
       "    </tr>\n",
       "    <tr>\n",
       "      <th>2017-08-15</th>\n",
       "      <td>54</td>\n",
       "      <td>PREPARED FOODS</td>\n",
       "      <td>4.553877</td>\n",
       "      <td>4.511984</td>\n",
       "    </tr>\n",
       "    <tr>\n",
       "      <th>2017-08-15</th>\n",
       "      <td>54</td>\n",
       "      <td>PRODUCE</td>\n",
       "      <td>6.820421</td>\n",
       "      <td>6.591136</td>\n",
       "    </tr>\n",
       "    <tr>\n",
       "      <th>2017-08-15</th>\n",
       "      <td>54</td>\n",
       "      <td>SCHOOL AND OFFICE SUPPLIES</td>\n",
       "      <td>0.000000</td>\n",
       "      <td>0.118667</td>\n",
       "    </tr>\n",
       "    <tr>\n",
       "      <th>2017-08-15</th>\n",
       "      <td>54</td>\n",
       "      <td>SEAFOOD</td>\n",
       "      <td>1.386294</td>\n",
       "      <td>1.439927</td>\n",
       "    </tr>\n",
       "  </tbody>\n",
       "</table>\n",
       "<p>28512 rows × 4 columns</p>\n",
       "</div>"
      ],
      "text/plain": [
       "            store_nbr                      family     sales  sales_pred\n",
       "date                                                                   \n",
       "2017-07-31          1                  AUTOMOTIVE  2.197225    1.506556\n",
       "2017-07-31          1                   BABY CARE  0.000000    0.000000\n",
       "2017-07-31          1                      BEAUTY  1.386294    1.367747\n",
       "2017-07-31          1                   BEVERAGES  7.789455    7.705845\n",
       "2017-07-31          1                       BOOKS  0.693147    0.166759\n",
       "...               ...                         ...       ...         ...\n",
       "2017-08-15         54                     POULTRY  4.104608    4.228193\n",
       "2017-08-15         54              PREPARED FOODS  4.553877    4.511984\n",
       "2017-08-15         54                     PRODUCE  6.820421    6.591136\n",
       "2017-08-15         54  SCHOOL AND OFFICE SUPPLIES  0.000000    0.118667\n",
       "2017-08-15         54                     SEAFOOD  1.386294    1.439927\n",
       "\n",
       "[28512 rows x 4 columns]"
      ]
     },
     "execution_count": 10,
     "metadata": {},
     "output_type": "execute_result"
    }
   ],
   "source": [
    "y['sales_pred'] =  y_pred[0].clip(0.)\n",
    "y = y.rename(columns={0: 'sales'})\n",
    "y = y.set_index('date')\n",
    "y"
   ]
  },
  {
   "cell_type": "code",
   "execution_count": 11,
   "id": "Rooj0qCmBjiZ",
   "metadata": {
    "id": "Rooj0qCmBjiZ"
   },
   "outputs": [],
   "source": [
    "# y.to_csv('RF.csv', index=True)"
   ]
  },
  {
   "cell_type": "code",
   "execution_count": 99,
   "id": "2f712d19",
   "metadata": {},
   "outputs": [
    {
     "name": "stderr",
     "output_type": "stream",
     "text": [
      "C:\\Users\\carlo\\Anaconda3\\lib\\site-packages\\ipykernel_launcher.py:11: FutureWarning: weekofyear and week have been deprecated, please use DatetimeIndex.isocalendar().week instead, which returns a Series.  To exactly reproduce the behavior of week and weekofyear and return an Index, you may call pd.Int64Index(idx.isocalendar().week)\n",
      "  # This is added back by InteractiveShellApp.init_path()\n"
     ]
    }
   ],
   "source": [
    "pred_test, y_te = train_test(final_df, date['date_end_test'], 16)"
   ]
  },
  {
   "cell_type": "code",
   "execution_count": null,
   "id": "321fde6b",
   "metadata": {},
   "outputs": [],
   "source": [
    "y = pd.Series(np.exp(pred_test.values) - 1, index=pred_test.index)\n",
    "tg = final_df2.reset_index().set_index(['date', 'store_nbr', 'family']).sort_index().loc['2017-08-16':, 'id']"
   ]
  },
  {
   "cell_type": "code",
   "execution_count": null,
   "id": "0626c8ca",
   "metadata": {},
   "outputs": [],
   "source": [
    "sub = pd.concat([tg, y], axis=1)\n",
    "sub = sub.rename(columns = {0:'sales'})\n",
    "sub['sales'] = sub['sales'].apply(lambda x: 0 if x<0.01 else x) \n",
    "sub"
   ]
  },
  {
   "cell_type": "code",
   "execution_count": null,
   "id": "3301ea2d",
   "metadata": {},
   "outputs": [],
   "source": [
    "# sub.to_csv('submission.csv', index=False)"
   ]
  },
  {
   "cell_type": "markdown",
   "id": "YRsc-U_k_Ztf",
   "metadata": {
    "id": "YRsc-U_k_Ztf"
   },
   "source": [
    "# HYPERPARAMETER TUNING"
   ]
  },
  {
   "cell_type": "code",
   "execution_count": null,
   "id": "0dd9ce42",
   "metadata": {},
   "outputs": [],
   "source": [
    "def HT (data, end_df, n):\n",
    "    \n",
    "    df = data.loc[:end_df,:].reset_index().set_index(['store_nbr', 'family', 'date']).sort_index()\n",
    "    y = np.log1p(df.loc[:,'sales'].unstack(['store_nbr', 'family']))\n",
    "    \n",
    "    # Selecting features\n",
    "    X = df[['sin(2,freq=A-DEC)','sin(2,freq=W-SUN)','lagoil_2_dcoilwtico','lagoil_6_dcoilwtico',\n",
    "            'lagoil_7_dcoilwtico','isweekend','oil_2_month_avg','trend','lagoil_10_dcoilwtico',\n",
    "            'sin(1,freq=A-DEC)','lagoil_1_dcoilwtico','sin(4,freq=W-SUN)','cos(1,freq=W-SUN)',\n",
    "            'dcoilwtico','sin(4,freq=A-DEC)','oil_1_month_avg','lagoil_14_dcoilwtico',\n",
    "            'sin(5,freq=A-DEC)','sin(1,freq=M)','cos(2,freq=M)','day','cos(1,freq=M)','sin(2,freq=M)',\n",
    "            'sin(1,freq=W-SUN)','onpromotion_std_store', 'onpromotion_avg_store', 'onpromotion_biweek_avg'\n",
    "            ]] \n",
    "    \n",
    "    X = X.groupby(by='date').first()\n",
    "        \n",
    "    # Train\n",
    "    if end_df <= date['date_end_train']:\n",
    "        y_tr = np.empty((92,0))\n",
    "        y_te = np.empty((n,0))\n",
    "        pred_train = np.empty((92,0))\n",
    "        pred_test = np.empty((n,0))\n",
    "    # Test\n",
    "    else:\n",
    "        y_tr = np.empty((diff_test-n,0))\n",
    "        y_te = np.empty((n,0))\n",
    "        pred_train = np.empty((diff_test-n,0))\n",
    "        pred_test = np.empty((n,0))\n",
    "        \n",
    "    params = []\n",
    "\n",
    "    # A model for each shop\n",
    "    for i in data.store_nbr.unique():\n",
    "        y = df.loc[i,'sales'].unstack(['family'])\n",
    "        X = df.loc[i,X.columns]\n",
    "        X = X.groupby(by='date').first()\n",
    "\n",
    "        # Splitting train and test and log transformation\n",
    "        X_train, y_train, X_test, y_test = split_func(y, X, np.log1p(y), end_df, n)\n",
    "                \n",
    "        # Exponentially weighted cost function    \n",
    "        weights = create_sample_weights(X_train, '2017-07-01')\n",
    "        \n",
    "        # Number of trees in random forest\n",
    "        n_estimators = [int(x) for x in np.linspace(start = 200, stop = 2000, num = 10)]\n",
    "        # Number of features to consider at every split\n",
    "        max_features = ['auto', 'sqrt']\n",
    "        # Maximum number of levels in tree\n",
    "        max_depth = [int(x) for x in np.linspace(10, 110, num = 11)]\n",
    "        max_depth.append(None)\n",
    "        # Minimum number of samples required to split a node\n",
    "        min_samples_split = [2, 5, 10]\n",
    "        # Minimum number of samples required at each leaf node\n",
    "        min_samples_leaf = [1, 2, 4]\n",
    "        # Method of selecting samples for training each tree\n",
    "        bootstrap = [True, False]\n",
    "        # Create the random grid\n",
    "        random_grid = {'n_estimators': n_estimators,\n",
    "                      'max_features': max_features,\n",
    "                      'max_depth': max_depth,\n",
    "                      'min_samples_split': min_samples_split,\n",
    "                      'min_samples_leaf': min_samples_leaf,\n",
    "                      'bootstrap': bootstrap}\n",
    "\n",
    "\n",
    "        # Random Forest\n",
    "        model = RandomForestRegressor(random_state=0)\n",
    "        random_search = RandomizedSearchCV(model, param_distributions=random_grid, scoring='neg_mean_absolute_error', cv=3, random_state=42, n_jobs=-1)\n",
    "        random_search.fit(X_train, y_train, sample_weight = weights)\n",
    "        params.append(random_search.best_params_)\n",
    "        rf_pred_train = random_search.predict(X_train) \n",
    "        rf_pred_test = random_search.predict(X_test)\n",
    "        \n",
    "        y_tr = np.append(y_tr, y_train, axis=1)\n",
    "        y_te = np.append(y_te, y_test, axis=1)\n",
    "        pred_train = np.append(pred_train, rf_pred_train, axis=1)\n",
    "        pred_test = np.append(pred_test, rf_pred_test, axis=1)\n",
    "        \n",
    "        # Performances of each shop\n",
    "        # Train\n",
    "        if end_df <= date['date_end_train']:\n",
    "            print(f'RMSLE_train {i}: ', np.round(np.sqrt(mean_squared_error(y_train.clip(0.0), rf_pred_train.clip(0.0))), 4), f'RMSLE_test {i}: ', np.round(np.sqrt(mean_squared_error(y_test.clip(0.0), rf_pred_test.clip(0.0))), 4))\n",
    "        \n",
    "\n",
    "    index = pd.MultiIndex.from_product([data.store_nbr.unique(), data.family.sort_values().unique()], names=['store_nbr', 'family'])\n",
    "    \n",
    "    y_tr = pd.DataFrame(y_tr, columns=index, index=X_train.index)\n",
    "    y_te = pd.DataFrame(y_te, columns=index, index=X_test.index)\n",
    "    pred_train = pd.DataFrame(pred_train, columns=y_tr.columns, index=y_tr.index)\n",
    "    pred_test = pd.DataFrame(pred_test, columns=y_te.columns, index=y_te.index)\n",
    "    \n",
    "    # Total performances\n",
    "    # Train\n",
    "    if end_df <= date['date_end_train']:\n",
    "        print(f'RMSLE_train tot: ', np.round(np.sqrt(mean_squared_error(y_tr.clip(0.0), pred_train.clip(0.0))), 4), f'RMSLE_test tot: ', np.round(np.sqrt(mean_squared_error(y_te.clip(0.0), pred_test.clip(0.0))), 4))\n",
    "\n",
    "   \n",
    "    y_tr = y_tr.stack(['store_nbr', 'family'])\n",
    "    y_te = y_te.stack(['store_nbr', 'family'])\n",
    "    pred_train = pred_train.stack(['store_nbr', 'family'])\n",
    "    pred_test = pred_test.stack(['store_nbr', 'family'])\n",
    "\n",
    "    return  pred_test, y_te, params, random_search"
   ]
  },
  {
   "cell_type": "code",
   "execution_count": 2,
   "id": "5be86ba3",
   "metadata": {
    "colab": {
     "base_uri": "https://localhost:8080/"
    },
    "execution": {
     "iopub.execute_input": "2022-06-11T06:48:42.809971Z",
     "iopub.status.busy": "2022-06-11T06:48:42.809576Z",
     "iopub.status.idle": "2022-06-11T06:52:08.810642Z",
     "shell.execute_reply": "2022-06-11T06:52:08.809532Z"
    },
    "id": "5be86ba3",
    "outputId": "45b19a0a-8d4a-4b66-ce8a-ab01e3010330",
    "papermill": {
     "duration": 206.084867,
     "end_time": "2022-06-11T06:52:08.813707",
     "exception": false,
     "start_time": "2022-06-11T06:48:42.728840",
     "status": "completed"
    },
    "scrolled": true,
    "tags": []
   },
   "outputs": [],
   "source": [
    "# pred_test, y_te, params, random_search = HT(final_df, date['date_end_train'], 16)"
   ]
  },
  {
   "cell_type": "code",
   "execution_count": 224,
   "id": "5b4058be",
   "metadata": {},
   "outputs": [],
   "source": [
    "# date_counts = Counter(d['n_estimators'] for d in params)\n",
    "# most_common = {'n_estimators': date_counts.most_common(1)[0][0]}\n",
    "# print(date_counts)\n",
    "# most_common"
   ]
  },
  {
   "cell_type": "code",
   "execution_count": 227,
   "id": "2ad59126",
   "metadata": {},
   "outputs": [
    {
     "data": {
      "text/plain": [
       "{'min_samples_split': 2}"
      ]
     },
     "execution_count": 227,
     "metadata": {},
     "output_type": "execute_result"
    }
   ],
   "source": [
    "# date_counts = Counter(d['learning_rate'] for d in params)\n",
    "# most_common = {'learning_rate': date_counts.most_common(1)[0][0]}\n",
    "# print(date_counts)\n",
    "# most_common"
   ]
  },
  {
   "cell_type": "code",
   "execution_count": 228,
   "id": "61e9167d",
   "metadata": {},
   "outputs": [
    {
     "data": {
      "text/plain": [
       "{'min_samples_leaf': 4}"
      ]
     },
     "execution_count": 228,
     "metadata": {},
     "output_type": "execute_result"
    }
   ],
   "source": [
    "# date_counts = Counter(d['subsample'] for d in params)\n",
    "# most_common = {'subsample': date_counts.most_common(1)[0][0]}\n",
    "# print(date_counts)\n",
    "# most_common"
   ]
  },
  {
   "cell_type": "code",
   "execution_count": 229,
   "id": "881b5dfe",
   "metadata": {},
   "outputs": [
    {
     "data": {
      "text/plain": [
       "{'max_features': 'auto'}"
      ]
     },
     "execution_count": 229,
     "metadata": {},
     "output_type": "execute_result"
    }
   ],
   "source": [
    "# date_counts = Counter(d['colsample_bytree'] for d in params)\n",
    "# most_common = {'colsample_bytree': date_counts.most_common(1)[0][0]}\n",
    "# print(date_counts)\n",
    "# most_common"
   ]
  },
  {
   "cell_type": "code",
   "execution_count": 230,
   "id": "4c97f471",
   "metadata": {},
   "outputs": [
    {
     "data": {
      "text/plain": [
       "{'max_depth': 100}"
      ]
     },
     "execution_count": 230,
     "metadata": {},
     "output_type": "execute_result"
    }
   ],
   "source": [
    "# date_counts = Counter(d['max_depth'] for d in params)\n",
    "# most_common = {'max_depth': date_counts.most_common(1)[0][0]}\n",
    "# print(date_counts)\n",
    "# most_common"
   ]
  },
  {
   "cell_type": "code",
   "execution_count": 231,
   "id": "fb0b4f4c",
   "metadata": {},
   "outputs": [
    {
     "data": {
      "text/plain": [
       "{'bootstrap': True}"
      ]
     },
     "execution_count": 231,
     "metadata": {},
     "output_type": "execute_result"
    }
   ],
   "source": [
    "# date_counts = Counter(d['colsample_bylevel'] for d in params)\n",
    "# most_common = {'colsample_bylevel': date_counts.most_common(1)[0][0]}\n",
    "# print(date_counts)\n",
    "# most_common"
   ]
  }
 ],
 "metadata": {
  "colab": {
   "collapsed_sections": [
    "f92fb7e2",
    "771b1aef"
   ],
   "provenance": []
  },
  "kernelspec": {
   "display_name": "Python 3 (ipykernel)",
   "language": "python",
   "name": "python3"
  },
  "language_info": {
   "codemirror_mode": {
    "name": "ipython",
    "version": 3
   },
   "file_extension": ".py",
   "mimetype": "text/x-python",
   "name": "python",
   "nbconvert_exporter": "python",
   "pygments_lexer": "ipython3",
   "version": "3.7.6"
  },
  "papermill": {
   "default_parameters": {},
   "duration": 341.131269,
   "end_time": "2022-06-11T06:52:14.004214",
   "environment_variables": {},
   "exception": null,
   "input_path": "__notebook__.ipynb",
   "output_path": "__notebook__.ipynb",
   "parameters": {},
   "start_time": "2022-06-11T06:46:32.872945",
   "version": "2.3.4"
  }
 },
 "nbformat": 4,
 "nbformat_minor": 5
}
